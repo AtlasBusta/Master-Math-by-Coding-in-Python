{
 "cells": [
  {
   "cell_type": "markdown",
   "id": "acd933c3",
   "metadata": {},
   "source": [
    "# Numbers and Strings"
   ]
  },
  {
   "cell_type": "code",
   "execution_count": 2,
   "id": "57645954",
   "metadata": {},
   "outputs": [],
   "source": [
    "import numpy as np"
   ]
  },
  {
   "cell_type": "code",
   "execution_count": 3,
   "id": "c46b7fec",
   "metadata": {},
   "outputs": [
    {
     "name": "stdout",
     "output_type": "stream",
     "text": [
      "7 7.0\n"
     ]
    }
   ],
   "source": [
    "# data types\n",
    "\n",
    "# ints vs. floats\n",
    "c = 7\n",
    "d = 7.0\n",
    "\n",
    "print(c,d)"
   ]
  },
  {
   "cell_type": "code",
   "execution_count": 4,
   "id": "6077c988",
   "metadata": {},
   "outputs": [
    {
     "name": "stdout",
     "output_type": "stream",
     "text": [
      "<class 'int'>\n",
      "<class 'float'>\n"
     ]
    }
   ],
   "source": [
    "print( type(c))\n",
    "print( type(d))"
   ]
  },
  {
   "cell_type": "code",
   "execution_count": 9,
   "id": "26ec486d",
   "metadata": {},
   "outputs": [
    {
     "name": "stdout",
     "output_type": "stream",
     "text": [
      "0\n",
      "1\n",
      "2\n",
      "3\n",
      "4\n",
      "5\n",
      "6\n"
     ]
    }
   ],
   "source": [
    "for i in range(c):\n",
    "    print(i)"
   ]
  },
  {
   "cell_type": "code",
   "execution_count": 8,
   "id": "3ebf5ca1",
   "metadata": {},
   "outputs": [
    {
     "ename": "TypeError",
     "evalue": "'float' object cannot be interpreted as an integer",
     "output_type": "error",
     "traceback": [
      "\u001b[1;31m---------------------------------------------------------------------------\u001b[0m",
      "\u001b[1;31mTypeError\u001b[0m                                 Traceback (most recent call last)",
      "\u001b[1;32m~\\AppData\\Local\\Temp/ipykernel_21440/1488626270.py\u001b[0m in \u001b[0;36m<module>\u001b[1;34m\u001b[0m\n\u001b[1;32m----> 1\u001b[1;33m \u001b[1;32mfor\u001b[0m \u001b[0mi\u001b[0m \u001b[1;32min\u001b[0m \u001b[0mrange\u001b[0m\u001b[1;33m(\u001b[0m\u001b[0md\u001b[0m\u001b[1;33m)\u001b[0m\u001b[1;33m:\u001b[0m\u001b[1;33m\u001b[0m\u001b[1;33m\u001b[0m\u001b[0m\n\u001b[0m\u001b[0;32m      2\u001b[0m     \u001b[0mprint\u001b[0m\u001b[1;33m(\u001b[0m\u001b[0mi\u001b[0m\u001b[1;33m)\u001b[0m\u001b[1;33m\u001b[0m\u001b[1;33m\u001b[0m\u001b[0m\n",
      "\u001b[1;31mTypeError\u001b[0m: 'float' object cannot be interpreted as an integer"
     ]
    }
   ],
   "source": [
    "for i in range(d):\n",
    "    print(i)"
   ]
  },
  {
   "cell_type": "code",
   "execution_count": 10,
   "id": "2ed70f79",
   "metadata": {},
   "outputs": [
    {
     "data": {
      "text/plain": [
       "14.0"
      ]
     },
     "execution_count": 10,
     "metadata": {},
     "output_type": "execute_result"
    }
   ],
   "source": [
    "c+d"
   ]
  },
  {
   "cell_type": "code",
   "execution_count": 13,
   "id": "eaab7a5f",
   "metadata": {},
   "outputs": [
    {
     "data": {
      "text/plain": [
       "'James Howard'"
      ]
     },
     "execution_count": 13,
     "metadata": {},
     "output_type": "execute_result"
    }
   ],
   "source": [
    "firstName = 'James'\n",
    "lastName = 'Howard'\n",
    "\n",
    "firstName + ' ' + lastName"
   ]
  },
  {
   "cell_type": "code",
   "execution_count": 14,
   "id": "59772438",
   "metadata": {},
   "outputs": [
    {
     "data": {
      "text/plain": [
       "49.0"
      ]
     },
     "execution_count": 14,
     "metadata": {},
     "output_type": "execute_result"
    }
   ],
   "source": [
    "c*d"
   ]
  },
  {
   "cell_type": "code",
   "execution_count": 17,
   "id": "6e7a64cd",
   "metadata": {},
   "outputs": [
    {
     "data": {
      "text/plain": [
       "'JamesJamesJamesJamesJamesJamesJamesJamesJamesJamesJamesJamesJamesJamesJamesJamesJamesJamesJamesJamesJamesJamesJamesJamesJamesJamesJamesJamesJamesJamesJamesJamesJamesJamesJamesJamesJamesJamesJamesJamesJamesJamesJamesJamesJamesJamesJamesJamesJamesJamesJamesJamesJamesJamesJamesJamesJamesJamesJamesJamesJamesJamesJamesJamesJamesJamesJamesJamesJamesJamesJamesJamesJamesJamesJamesJamesJamesJamesJamesJamesJamesJamesJamesJamesJamesJamesJamesJamesJamesJamesJamesJamesJamesJamesJamesJamesJamesJamesJamesJames'"
      ]
     },
     "execution_count": 17,
     "metadata": {},
     "output_type": "execute_result"
    }
   ],
   "source": [
    "firstName * 100"
   ]
  },
  {
   "cell_type": "code",
   "execution_count": 18,
   "id": "717fa6fb",
   "metadata": {},
   "outputs": [
    {
     "name": "stdout",
     "output_type": "stream",
     "text": [
      "Variable    Type      Data/Info\n",
      "-------------------------------\n",
      "c           int       7\n",
      "d           float     7.0\n",
      "firstName   str       James\n",
      "i           int       6\n",
      "lastName    str       Howard\n",
      "np          module    <module 'numpy' from 'C:\\<...>ges\\\\numpy\\\\__init__.py'>\n"
     ]
    }
   ],
   "source": [
    "%whos"
   ]
  },
  {
   "cell_type": "markdown",
   "id": "5d0b6fd7",
   "metadata": {},
   "source": [
    "## Exercises"
   ]
  },
  {
   "cell_type": "code",
   "execution_count": 31,
   "id": "6652ec1b",
   "metadata": {},
   "outputs": [
    {
     "name": "stdout",
     "output_type": "stream",
     "text": [
      "4 4\n",
      "4.0 4.7\n",
      "5 5.8\n"
     ]
    }
   ],
   "source": [
    "# convert across datatypes\n",
    "s1 = '4'\n",
    "s2 = '4.7'\n",
    "n1 = 5\n",
    "n2 = 5.8\n",
    "\n",
    "# convert the strings to integers\n",
    "\n",
    "print(int(s1),int(float(s2)))\n",
    "\n",
    "# convert the strings to floats\n",
    "\n",
    "print(float(s1),float(s2))\n",
    "\n",
    "# convert the numbers into strings\n",
    "\n",
    "print(str(n1),str(n2))\n"
   ]
  },
  {
   "cell_type": "code",
   "execution_count": 32,
   "id": "e0005819",
   "metadata": {},
   "outputs": [
    {
     "data": {
      "text/plain": [
       "'5.85.8'"
      ]
     },
     "execution_count": 32,
     "metadata": {},
     "output_type": "execute_result"
    }
   ],
   "source": [
    "str(n2)*2"
   ]
  },
  {
   "cell_type": "markdown",
   "id": "a8a7b9d5",
   "metadata": {},
   "source": [
    "# Lists and NumPy Arrays"
   ]
  },
  {
   "cell_type": "code",
   "execution_count": 34,
   "id": "d824e4da",
   "metadata": {},
   "outputs": [],
   "source": [
    "import numpy as np"
   ]
  },
  {
   "cell_type": "code",
   "execution_count": null,
   "id": "fde7ad05",
   "metadata": {},
   "outputs": [],
   "source": [
    "# Lists\n",
    "\n",
    "# numpy arrays\n"
   ]
  },
  {
   "cell_type": "code",
   "execution_count": 35,
   "id": "b45fca67",
   "metadata": {},
   "outputs": [
    {
     "data": {
      "text/plain": [
       "list"
      ]
     },
     "execution_count": 35,
     "metadata": {},
     "output_type": "execute_result"
    }
   ],
   "source": [
    "aList = [0,1,2,3,4,5]\n",
    "type(aList)"
   ]
  },
  {
   "cell_type": "code",
   "execution_count": 36,
   "id": "b3c63539",
   "metadata": {},
   "outputs": [
    {
     "data": {
      "text/plain": [
       "[3, ['3', '4', '5'], 5.5, [4, 5, 6]]"
      ]
     },
     "execution_count": 36,
     "metadata": {},
     "output_type": "execute_result"
    }
   ],
   "source": [
    "listList = [ 3,['3','4','5'],5.5,[4,5,6]]\n",
    "listList"
   ]
  },
  {
   "cell_type": "code",
   "execution_count": 38,
   "id": "c4ed40d3",
   "metadata": {},
   "outputs": [
    {
     "data": {
      "text/plain": [
       "[3, ['3', '4', '5'], 5.5, [4, 5, 6]]"
      ]
     },
     "execution_count": 38,
     "metadata": {},
     "output_type": "execute_result"
    }
   ],
   "source": [
    "listList = [ \n",
    "    3,\n",
    "    ['3','4','5'],\n",
    "    5.5,\n",
    "    [4,5,6]\n",
    "]\n",
    "listList"
   ]
  },
  {
   "cell_type": "code",
   "execution_count": 39,
   "id": "90f09b5c",
   "metadata": {},
   "outputs": [
    {
     "data": {
      "text/plain": [
       "[0, 1, 2, 3, 4, 5, '0', '1', '2', '3', '4', '5']"
      ]
     },
     "execution_count": 39,
     "metadata": {},
     "output_type": "execute_result"
    }
   ],
   "source": [
    "aList = [0,1,2,3,4,5]\n",
    "sList = ['0','1','2','3','4','5']\n",
    "\n",
    "aList + sList"
   ]
  },
  {
   "cell_type": "code",
   "execution_count": 41,
   "id": "1b5b5bd8",
   "metadata": {},
   "outputs": [
    {
     "data": {
      "text/plain": [
       "[0, 1, 2, 3, 4, 5, 0, 1, 2, 3, 4, 5, 0, 1, 2, 3, 4, 5]"
      ]
     },
     "execution_count": 41,
     "metadata": {},
     "output_type": "execute_result"
    }
   ],
   "source": [
    "aList*3"
   ]
  },
  {
   "cell_type": "code",
   "execution_count": 42,
   "id": "31b53b18",
   "metadata": {},
   "outputs": [
    {
     "data": {
      "text/plain": [
       "['0',\n",
       " '1',\n",
       " '2',\n",
       " '3',\n",
       " '4',\n",
       " '5',\n",
       " '0',\n",
       " '1',\n",
       " '2',\n",
       " '3',\n",
       " '4',\n",
       " '5',\n",
       " '0',\n",
       " '1',\n",
       " '2',\n",
       " '3',\n",
       " '4',\n",
       " '5']"
      ]
     },
     "execution_count": 42,
     "metadata": {},
     "output_type": "execute_result"
    }
   ],
   "source": [
    "sList*3"
   ]
  },
  {
   "cell_type": "code",
   "execution_count": 44,
   "id": "cb58966f",
   "metadata": {},
   "outputs": [
    {
     "name": "stdout",
     "output_type": "stream",
     "text": [
      "<class 'list'>\n",
      "<class 'numpy.ndarray'>\n",
      "[0, 1, 2, 3, 4, 5]\n",
      "[0 1 2 3 4 5]\n"
     ]
    }
   ],
   "source": [
    "aList_np = np.array(aList)\n",
    "\n",
    "print(type(aList))\n",
    "print(type(aList_np))\n",
    "print(aList)\n",
    "print(aList_np)"
   ]
  },
  {
   "cell_type": "code",
   "execution_count": 45,
   "id": "5b104bb9",
   "metadata": {},
   "outputs": [
    {
     "data": {
      "text/plain": [
       "array([ 0,  3,  6,  9, 12, 15])"
      ]
     },
     "execution_count": 45,
     "metadata": {},
     "output_type": "execute_result"
    }
   ],
   "source": [
    "aList_np * 3"
   ]
  },
  {
   "cell_type": "markdown",
   "id": "f0918cf6",
   "metadata": {},
   "source": [
    "## Enumerate"
   ]
  },
  {
   "cell_type": "code",
   "execution_count": 62,
   "id": "47dc311e",
   "metadata": {},
   "outputs": [
    {
     "name": "stdout",
     "output_type": "stream",
     "text": [
      "0 J\n",
      "1 a\n",
      "2 m\n",
      "3 e\n",
      "4 s\n"
     ]
    }
   ],
   "source": [
    "s = 'James'\n",
    "for i,letter in enumerate(s):\n",
    "    print(i,letter)"
   ]
  },
  {
   "cell_type": "markdown",
   "id": "9cc90a48",
   "metadata": {},
   "source": [
    "## Exercise"
   ]
  },
  {
   "cell_type": "code",
   "execution_count": 56,
   "id": "aac51ecd",
   "metadata": {},
   "outputs": [
    {
     "name": "stdout",
     "output_type": "stream",
     "text": [
      "List element 0 is 3 and is of type <class 'int'>\n",
      "List element 1 is ['3', '4', '5'] and is of type <class 'list'>\n",
      "List element 2 is 5.5 and is of type <class 'float'>\n",
      "List element 3 is [4, 5, 6] and is of type <class 'list'>\n"
     ]
    }
   ],
   "source": [
    "# iterate over whole list and use list.index() to find each index value\n",
    "for i in listList:\n",
    "    print(f'List element {listList.index(i)} is {i} and is of type {type(i)}')"
   ]
  },
  {
   "cell_type": "code",
   "execution_count": 57,
   "id": "758a516e",
   "metadata": {},
   "outputs": [
    {
     "name": "stdout",
     "output_type": "stream",
     "text": [
      "List element 0 is 3 and is of type <class 'int'>\n",
      "List element 1 is ['3', '4', '5'] and is of type <class 'list'>\n",
      "List element 2 is 5.5 and is of type <class 'float'>\n",
      "List element 3 is [4, 5, 6] and is of type <class 'list'>\n"
     ]
    }
   ],
   "source": [
    "# iterate over the length of the list and get the index value as i\n",
    "for i in range(len(listList)):\n",
    "    print(f'List element {i} is {listList[i]} and is of type {type(listList[i])}')"
   ]
  },
  {
   "cell_type": "code",
   "execution_count": 58,
   "id": "04283c64",
   "metadata": {},
   "outputs": [
    {
     "name": "stdout",
     "output_type": "stream",
     "text": [
      "List element 0 is 3 and is of type <class 'int'>\n",
      "List element 1 is ['3', '4', '5'] and is of type <class 'list'>\n",
      "List element 2 is 5.5 and is of type <class 'float'>\n",
      "List element 3 is [4, 5, 6] and is of type <class 'list'>\n"
     ]
    }
   ],
   "source": [
    "# enumerate the list and get both index and item values returned each time as idx and item\n",
    "for idx,item in enumerate(listList):\n",
    "    print(f'List element {idx} is {item} and is of type {type(item)}')"
   ]
  },
  {
   "cell_type": "code",
   "execution_count": 61,
   "id": "9ff8f410",
   "metadata": {},
   "outputs": [
    {
     "name": "stdout",
     "output_type": "stream",
     "text": [
      "List element 0 is 3 and is of type int\n",
      "List element 1 is ['3', '4', '5'] and is of type list\n",
      "List element 2 is 5.5 and is of type float\n",
      "List element 3 is [4, 5, 6] and is of type list\n"
     ]
    }
   ],
   "source": [
    "# use enumerate and print the type as only the type with class removed\n",
    "# use slice [8:-2] that slices at character 8 and the last 2 characters from the end\n",
    "for idx,item in enumerate(listList):\n",
    "    t = str(type(item))[8:-2]\n",
    "    print(f'List element {idx} is {item} and is of type {t}')"
   ]
  }
 ],
 "metadata": {
  "kernelspec": {
   "display_name": "Python 3 (ipykernel)",
   "language": "python",
   "name": "python3"
  },
  "language_info": {
   "codemirror_mode": {
    "name": "ipython",
    "version": 3
   },
   "file_extension": ".py",
   "mimetype": "text/x-python",
   "name": "python",
   "nbconvert_exporter": "python",
   "pygments_lexer": "ipython3",
   "version": "3.9.7"
  }
 },
 "nbformat": 4,
 "nbformat_minor": 5
}
