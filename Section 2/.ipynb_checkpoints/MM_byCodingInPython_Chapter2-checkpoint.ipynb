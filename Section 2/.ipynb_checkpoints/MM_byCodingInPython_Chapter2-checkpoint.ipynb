{
 "cells": [
  {
   "cell_type": "code",
   "execution_count": 1,
   "id": "850fb392-48c1-4378-972c-d0c2daa72c33",
   "metadata": {
    "tags": []
   },
   "outputs": [],
   "source": [
    "from numpy import random\n",
    "from IPython.display import display, Math"
   ]
  },
  {
   "cell_type": "code",
   "execution_count": 14,
   "id": "32d1e3b4-a085-460f-a219-1f8f0a953ca0",
   "metadata": {},
   "outputs": [],
   "source": [
    "def guessTheNum():\n",
    "    x = random.randint(1,101)\n",
    "    userInput = int(input('Guess a number between 1 and 100: '))\n",
    "    while x != userInput and userInput >= 1 and userInput <= 100:\n",
    "        if x > userInput:\n",
    "            print('Guess higher. %g was not correct' %userInput)\n",
    "        elif x < userInput:\n",
    "            print('Guess lower. %g was not correct' %userInput)\n",
    "        userInput = int(input('Guess again: '))\n",
    "    if x == userInput:\n",
    "        print('Got it! The right number is %g' %x)\n",
    "    else:\n",
    "        print('%g is not in the guessing range.' %userInput)"
   ]
  },
  {
   "cell_type": "code",
   "execution_count": 15,
   "id": "78b1f97f-8103-4447-875f-78fb29ef46db",
   "metadata": {},
   "outputs": [
    {
     "name": "stdin",
     "output_type": "stream",
     "text": [
      "Guess a number between 1 and 100:  50\n"
     ]
    },
    {
     "name": "stdout",
     "output_type": "stream",
     "text": [
      "Guess lower. 50 was not correct\n"
     ]
    },
    {
     "name": "stdin",
     "output_type": "stream",
     "text": [
      "Guess again:  25\n"
     ]
    },
    {
     "name": "stdout",
     "output_type": "stream",
     "text": [
      "Guess lower. 25 was not correct\n"
     ]
    },
    {
     "name": "stdin",
     "output_type": "stream",
     "text": [
      "Guess again:  13\n"
     ]
    },
    {
     "name": "stdout",
     "output_type": "stream",
     "text": [
      "Guess higher. 13 was not correct\n"
     ]
    },
    {
     "name": "stdin",
     "output_type": "stream",
     "text": [
      "Guess again:  19\n"
     ]
    },
    {
     "name": "stdout",
     "output_type": "stream",
     "text": [
      "Guess lower. 19 was not correct\n"
     ]
    },
    {
     "name": "stdin",
     "output_type": "stream",
     "text": [
      "Guess again:  16\n"
     ]
    },
    {
     "name": "stdout",
     "output_type": "stream",
     "text": [
      "Guess higher. 16 was not correct\n"
     ]
    },
    {
     "name": "stdin",
     "output_type": "stream",
     "text": [
      "Guess again:  17\n"
     ]
    },
    {
     "name": "stdout",
     "output_type": "stream",
     "text": [
      "Guess higher. 17 was not correct\n"
     ]
    },
    {
     "name": "stdin",
     "output_type": "stream",
     "text": [
      "Guess again:  18\n"
     ]
    },
    {
     "name": "stdout",
     "output_type": "stream",
     "text": [
      "Got it! The right number is 18\n"
     ]
    }
   ],
   "source": [
    "guessTheNum()"
   ]
  },
  {
   "cell_type": "code",
   "execution_count": null,
   "id": "cb54c22d-a413-4436-b393-db9646a264be",
   "metadata": {},
   "outputs": [],
   "source": []
  }
 ],
 "metadata": {
  "kernelspec": {
   "display_name": "Python 3 (ipykernel)",
   "language": "python",
   "name": "python3"
  },
  "language_info": {
   "codemirror_mode": {
    "name": "ipython",
    "version": 3
   },
   "file_extension": ".py",
   "mimetype": "text/x-python",
   "name": "python",
   "nbconvert_exporter": "python",
   "pygments_lexer": "ipython3",
   "version": "3.9.7"
  }
 },
 "nbformat": 4,
 "nbformat_minor": 5
}
