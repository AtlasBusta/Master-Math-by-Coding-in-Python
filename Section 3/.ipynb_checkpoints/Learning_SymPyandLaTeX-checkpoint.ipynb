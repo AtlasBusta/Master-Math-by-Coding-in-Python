{
 "cells": [
  {
   "cell_type": "markdown",
   "id": "31127cb5",
   "metadata": {},
   "source": [
    "# Intro to Sympy\n",
    "## the tool to represent math symbolically instead of like a computer"
   ]
  },
  {
   "cell_type": "code",
   "execution_count": null,
   "id": "d08e8d9d",
   "metadata": {},
   "outputs": [],
   "source": [
    "import sympy as sym\n",
    "import numpy as np\n",
    "sym.init_printing()\n",
    "from IPython.display import display, Math"
   ]
  },
  {
   "cell_type": "code",
   "execution_count": null,
   "id": "7781db5f",
   "metadata": {},
   "outputs": [],
   "source": [
    "x,y,z = sym.symbols('x,y,z')\n",
    "x"
   ]
  },
  {
   "cell_type": "code",
   "execution_count": null,
   "id": "071bfafd",
   "metadata": {},
   "outputs": [],
   "source": [
    "y + 4"
   ]
  },
  {
   "cell_type": "code",
   "execution_count": null,
   "id": "7531a8af",
   "metadata": {},
   "outputs": [],
   "source": [
    "display(x**y)"
   ]
  },
  {
   "cell_type": "code",
   "execution_count": null,
   "id": "040fdda2",
   "metadata": {},
   "outputs": [],
   "source": [
    "display(np.sqrt(2))\n",
    "display(sym.sqrt(2))"
   ]
  },
  {
   "cell_type": "markdown",
   "id": "26f8a3e4",
   "metadata": {},
   "source": [
    "## Exercises"
   ]
  },
  {
   "cell_type": "code",
   "execution_count": null,
   "id": "a88fead2",
   "metadata": {},
   "outputs": [],
   "source": [
    "display( y*x**2 )\n",
    "\n",
    "display( sym.sqrt(4)*x )\n",
    "\n",
    "display( sym.sqrt(x)*sym.sqrt(x) )"
   ]
  },
  {
   "cell_type": "markdown",
   "id": "c8e2ba74",
   "metadata": {},
   "source": [
    "# Using LaTeX"
   ]
  },
  {
   "cell_type": "code",
   "execution_count": null,
   "id": "18c30a11",
   "metadata": {},
   "outputs": [],
   "source": [
    "import sympy as sym\n",
    "import numpy as np\n",
    "sym.init_printing()\n",
    "from IPython.display import display, Math"
   ]
  },
  {
   "cell_type": "code",
   "execution_count": null,
   "id": "362aa77e",
   "metadata": {
    "scrolled": true
   },
   "outputs": [],
   "source": [
    "print('4 + 3 = 7')\n",
    "\n",
    "display(Math('4 + 3 = 7'))\n",
    "\n",
    "display(Math('\\\\sigma = \\\\mu \\\\times 2\\\\sqrt{5x+3z-17u}'))"
   ]
  },
  {
   "cell_type": "code",
   "execution_count": null,
   "id": "4cba9d53",
   "metadata": {},
   "outputs": [],
   "source": [
    "display(Math('x_mm'))\n",
    "display(Math('x_{mm}'))\n",
    "display(Math('x_{mm} + y^{n+2k-15}'))"
   ]
  },
  {
   "cell_type": "code",
   "execution_count": null,
   "id": "1c3e14f1",
   "metadata": {},
   "outputs": [],
   "source": [
    "display(Math('\\\\sqrt{x}\\\\sqrt{x}')) #answert to one of the previous exercises"
   ]
  },
  {
   "cell_type": "code",
   "execution_count": null,
   "id": "fba0ab1a",
   "metadata": {},
   "outputs": [],
   "source": [
    "display(Math('\\\\text{The answer to this equation is }\\\\frac{1+x}{2v-s^{t+4r}}'))"
   ]
  },
  {
   "cell_type": "markdown",
   "id": "0f58ab9d",
   "metadata": {},
   "source": [
    "# This is a markdown cell\n",
    "## subtext\n",
    "### even smaller text\n",
    "This cell is not for running actual Python code\n",
    "\n",
    "This LaTeX code runs in Markdown same line with one dollar sign and single slashes $\\frac{1+x}{2v-s^{t+4r}}$\n",
    "\n",
    "This LaTeX code runs in Markdown on it's own line with two dollar signs and single slashes $$2\\sqrt{5x+3z-17u}$$"
   ]
  },
  {
   "cell_type": "markdown",
   "id": "234f3600",
   "metadata": {},
   "source": [
    "## Exercises"
   ]
  },
  {
   "cell_type": "code",
   "execution_count": 8,
   "id": "a918f3ae",
   "metadata": {},
   "outputs": [
    {
     "data": {
      "text/latex": [
       "$\\displaystyle \\text{1) }4x+5y-8z=17$"
      ],
      "text/plain": [
       "<IPython.core.display.Math object>"
      ]
     },
     "metadata": {},
     "output_type": "display_data"
    },
    {
     "data": {
      "text/latex": [
       "$\\displaystyle \\text{2) }\\sin(2\\pi f t + \\theta)$"
      ],
      "text/plain": [
       "<IPython.core.display.Math object>"
      ]
     },
     "metadata": {},
     "output_type": "display_data"
    },
    {
     "data": {
      "text/latex": [
       "$\\displaystyle \\text{3) }e=mc^2$"
      ],
      "text/plain": [
       "<IPython.core.display.Math object>"
      ]
     },
     "metadata": {},
     "output_type": "display_data"
    },
    {
     "data": {
      "text/latex": [
       "$\\displaystyle \\text{4) }\\frac{4+5x^2}{(1+x)(1-x)}$"
      ],
      "text/plain": [
       "<IPython.core.display.Math object>"
      ]
     },
     "metadata": {},
     "output_type": "display_data"
    }
   ],
   "source": [
    "display(Math('\\\\text{1) }4x+5y-8z=17'))\n",
    "display(Math('\\\\text{2) }\\\\sin(2\\\\pi f t + \\\\theta)'))\n",
    "display(Math('\\\\text{3) }e=mc^2'))\n",
    "display(Math('\\\\text{4) }\\\\frac{4+5x^2}{(1+x)(1-x)}'))\n"
   ]
  },
  {
   "cell_type": "markdown",
   "id": "449198c5",
   "metadata": {},
   "source": [
    "# SymPy part 2"
   ]
  },
  {
   "cell_type": "code",
   "execution_count": null,
   "id": "f08b30d2",
   "metadata": {},
   "outputs": [],
   "source": [
    "import sympy as sym\n",
    "from IPython.display import display, Math\n"
   ]
  },
  {
   "cell_type": "code",
   "execution_count": 7,
   "id": "92b50579",
   "metadata": {},
   "outputs": [
    {
     "data": {
      "text/latex": [
       "$\\displaystyle e^{\\frac{\\left(- \\alpha + \\mu\\right)^{2}}{2 \\sigma^{2}}}$"
      ],
      "text/plain": [
       "exp((-alpha + mu)**2/(2*sigma**2))"
      ]
     },
     "metadata": {},
     "output_type": "display_data"
    }
   ],
   "source": [
    "mu,alpha,sigma = sym.symbols('mu,alpha,sigma')\n",
    "\n",
    "expr = sym.exp( (mu-alpha)**2 / (2*sigma**2) )\n",
    "display(expr)"
   ]
  },
  {
   "cell_type": "code",
   "execution_count": 6,
   "id": "1a74d4ee",
   "metadata": {},
   "outputs": [
    {
     "data": {
      "text/latex": [
       "$\\displaystyle \\frac{hello}{3}$"
      ],
      "text/plain": [
       "hello/3"
      ]
     },
     "execution_count": 6,
     "metadata": {},
     "output_type": "execute_result"
    }
   ],
   "source": [
    "hello = sym.symbols('hello')\n",
    "hello/3"
   ]
  },
  {
   "cell_type": "code",
   "execution_count": 5,
   "id": "21188c6d",
   "metadata": {},
   "outputs": [
    {
     "data": {
      "text/latex": [
       "$\\displaystyle 10$"
      ],
      "text/plain": [
       "10"
      ]
     },
     "execution_count": 5,
     "metadata": {},
     "output_type": "execute_result"
    }
   ],
   "source": [
    "x = sym.symbols('x')\n",
    "expr = x+4\n",
    "expr.subs(x,6) # replace x with 6 in the expression expr"
   ]
  },
  {
   "cell_type": "code",
   "execution_count": 9,
   "id": "72ceb5bf",
   "metadata": {},
   "outputs": [
    {
     "data": {
      "text/latex": [
       "$\\displaystyle 6$"
      ],
      "text/plain": [
       "6"
      ]
     },
     "execution_count": 9,
     "metadata": {},
     "output_type": "execute_result"
    }
   ],
   "source": [
    "x,y = sym.symbols('x,y')\n",
    "expr = x+4+2*y\n",
    "expr.subs({x:-4, y:3})"
   ]
  },
  {
   "cell_type": "code",
   "execution_count": 10,
   "id": "71c78f5f",
   "metadata": {},
   "outputs": [
    {
     "data": {
      "text/plain": [
       "'\\\\frac{3}{x}'"
      ]
     },
     "execution_count": 10,
     "metadata": {},
     "output_type": "execute_result"
    }
   ],
   "source": [
    "expr = 3/x\n",
    "sym.latex(expr)"
   ]
  },
  {
   "cell_type": "code",
   "execution_count": 11,
   "id": "e6786f2c",
   "metadata": {},
   "outputs": [
    {
     "data": {
      "text/latex": [
       "$\\displaystyle \\frac{3}{x}$"
      ],
      "text/plain": [
       "<IPython.core.display.Math object>"
      ]
     },
     "metadata": {},
     "output_type": "display_data"
    }
   ],
   "source": [
    "display(Math(sym.latex(expr)))"
   ]
  },
  {
   "cell_type": "code",
   "execution_count": 12,
   "id": "9613a2bb",
   "metadata": {},
   "outputs": [
    {
     "name": "stdout",
     "output_type": "stream",
     "text": [
      "\\frac{3}{x}\n"
     ]
    }
   ],
   "source": [
    "print(sym.latex(expr))"
   ]
  },
  {
   "cell_type": "code",
   "execution_count": null,
   "id": "02886d35",
   "metadata": {},
   "outputs": [],
   "source": [
    "sym.latex(3/4)"
   ]
  },
  {
   "cell_type": "code",
   "execution_count": null,
   "id": "40841e6e",
   "metadata": {},
   "outputs": [],
   "source": [
    "sym.latex(sym.sympify('3/4')) #convert string into sympy object"
   ]
  },
  {
   "cell_type": "code",
   "execution_count": null,
   "id": "4dfa236b",
   "metadata": {},
   "outputs": [],
   "source": [
    "display(Math(sym.latex(sym.sympify('3/4'))))"
   ]
  },
  {
   "cell_type": "markdown",
   "id": "01c9f8e6",
   "metadata": {},
   "source": [
    "## Exercises"
   ]
  },
  {
   "cell_type": "code",
   "execution_count": 1,
   "id": "8ddca72b",
   "metadata": {},
   "outputs": [],
   "source": [
    "import sympy as sym\n",
    "from IPython.display import display, Math"
   ]
  },
  {
   "cell_type": "code",
   "execution_count": 31,
   "id": "92eec027",
   "metadata": {
    "scrolled": true
   },
   "outputs": [
    {
     "data": {
      "text/latex": [
       "$\\displaystyle \\text{With x = -2: }x^2+4 \\quad \\Rightarrow \\quad -2^{2}+4=8$"
      ],
      "text/plain": [
       "<IPython.core.display.Math object>"
      ]
     },
     "metadata": {},
     "output_type": "display_data"
    },
    {
     "data": {
      "text/latex": [
       "$\\displaystyle \\text{With x = -1: }x^2+4 \\quad \\Rightarrow \\quad -1^{2}+4=5$"
      ],
      "text/plain": [
       "<IPython.core.display.Math object>"
      ]
     },
     "metadata": {},
     "output_type": "display_data"
    },
    {
     "data": {
      "text/latex": [
       "$\\displaystyle \\text{With x = 0: }x^2+4 \\quad \\Rightarrow \\quad 0^{2}+4=4$"
      ],
      "text/plain": [
       "<IPython.core.display.Math object>"
      ]
     },
     "metadata": {},
     "output_type": "display_data"
    },
    {
     "data": {
      "text/latex": [
       "$\\displaystyle \\text{With x = 1: }x^2+4 \\quad \\Rightarrow \\quad 1^{2}+4=5$"
      ],
      "text/plain": [
       "<IPython.core.display.Math object>"
      ]
     },
     "metadata": {},
     "output_type": "display_data"
    },
    {
     "data": {
      "text/latex": [
       "$\\displaystyle \\text{With x = 2: }x^2+4 \\quad \\Rightarrow \\quad 2^{2}+4=8$"
      ],
      "text/plain": [
       "<IPython.core.display.Math object>"
      ]
     },
     "metadata": {},
     "output_type": "display_data"
    }
   ],
   "source": [
    "x = sym.symbols('x')\n",
    "expr = x**2+4\n",
    "for i in range(-2, 3):\n",
    "    display(Math('\\\\text{With x = %g: }x^2+4 \\\\quad \\\\Rightarrow \\\\quad %g^{2}+4=%g' %(i,i,expr.subs(x,i)) ))"
   ]
  },
  {
   "cell_type": "code",
   "execution_count": 30,
   "id": "951ca104",
   "metadata": {},
   "outputs": [
    {
     "data": {
      "text/latex": [
       "$\\displaystyle \\text{With x = -2: }x^2+4 \\quad \\Rightarrow \\quad -2^{2}+4=8$"
      ],
      "text/plain": [
       "<IPython.core.display.Math object>"
      ]
     },
     "metadata": {},
     "output_type": "display_data"
    },
    {
     "data": {
      "text/latex": [
       "$\\displaystyle \\text{With x = -1: }x^2+4 \\quad \\Rightarrow \\quad -1^{2}+4=5$"
      ],
      "text/plain": [
       "<IPython.core.display.Math object>"
      ]
     },
     "metadata": {},
     "output_type": "display_data"
    },
    {
     "data": {
      "text/latex": [
       "$\\displaystyle \\text{With x = 0: }x^2+4 \\quad \\Rightarrow \\quad 0^{2}+4=4$"
      ],
      "text/plain": [
       "<IPython.core.display.Math object>"
      ]
     },
     "metadata": {},
     "output_type": "display_data"
    },
    {
     "data": {
      "text/latex": [
       "$\\displaystyle \\text{With x = 1: }x^2+4 \\quad \\Rightarrow \\quad 1^{2}+4=5$"
      ],
      "text/plain": [
       "<IPython.core.display.Math object>"
      ]
     },
     "metadata": {},
     "output_type": "display_data"
    },
    {
     "data": {
      "text/latex": [
       "$\\displaystyle \\text{With x = 2: }x^2+4 \\quad \\Rightarrow \\quad 2^{2}+4=8$"
      ],
      "text/plain": [
       "<IPython.core.display.Math object>"
      ]
     },
     "metadata": {},
     "output_type": "display_data"
    }
   ],
   "source": [
    "for i in range(-2, 3):\n",
    "    ans = (x+4).subs(x,i**2)\n",
    "    display(Math('\\\\text{With x = %g: }x^2+4 \\\\quad \\\\Rightarrow \\\\quad %g^{2}+4=%g' %(i,i,ans) ))"
   ]
  },
  {
   "cell_type": "markdown",
   "id": "c65c8853",
   "metadata": {},
   "source": [
    "# Printing with F-Strings"
   ]
  },
  {
   "cell_type": "code",
   "execution_count": null,
   "id": "9145af4d",
   "metadata": {},
   "outputs": [],
   "source": []
  }
 ],
 "metadata": {
  "kernelspec": {
   "display_name": "Python 3 (ipykernel)",
   "language": "python",
   "name": "python3"
  },
  "language_info": {
   "codemirror_mode": {
    "name": "ipython",
    "version": 3
   },
   "file_extension": ".py",
   "mimetype": "text/x-python",
   "name": "python",
   "nbconvert_exporter": "python",
   "pygments_lexer": "ipython3",
   "version": "3.9.7"
  }
 },
 "nbformat": 4,
 "nbformat_minor": 5
}
