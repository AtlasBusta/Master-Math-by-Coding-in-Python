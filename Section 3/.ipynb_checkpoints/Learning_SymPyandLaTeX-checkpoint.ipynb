{
 "cells": [
  {
   "cell_type": "markdown",
   "id": "31127cb5",
   "metadata": {},
   "source": [
    "# Intro to Sympy\n",
    "## the tool to represent math symbolically instead of like a computer"
   ]
  },
  {
   "cell_type": "code",
   "execution_count": null,
   "id": "d08e8d9d",
   "metadata": {},
   "outputs": [],
   "source": [
    "import sympy as sym\n",
    "import numpy as np\n",
    "sym.init_printing()\n",
    "from IPython.display import display, Math"
   ]
  },
  {
   "cell_type": "code",
   "execution_count": null,
   "id": "7781db5f",
   "metadata": {},
   "outputs": [],
   "source": [
    "x,y,z = sym.symbols('x,y,z')\n",
    "x"
   ]
  },
  {
   "cell_type": "code",
   "execution_count": null,
   "id": "071bfafd",
   "metadata": {},
   "outputs": [],
   "source": [
    "y + 4"
   ]
  },
  {
   "cell_type": "code",
   "execution_count": null,
   "id": "7531a8af",
   "metadata": {},
   "outputs": [],
   "source": [
    "display(x**y)"
   ]
  },
  {
   "cell_type": "code",
   "execution_count": null,
   "id": "040fdda2",
   "metadata": {},
   "outputs": [],
   "source": [
    "display(np.sqrt(2))\n",
    "display(sym.sqrt(2))"
   ]
  },
  {
   "cell_type": "markdown",
   "id": "26f8a3e4",
   "metadata": {},
   "source": [
    "## Exercises"
   ]
  },
  {
   "cell_type": "code",
   "execution_count": null,
   "id": "a88fead2",
   "metadata": {},
   "outputs": [],
   "source": [
    "display( y*x**2 )\n",
    "\n",
    "display( sym.sqrt(4)*x )\n",
    "\n",
    "display( sym.sqrt(x)*sym.sqrt(x) )"
   ]
  },
  {
   "cell_type": "markdown",
   "id": "c8e2ba74",
   "metadata": {},
   "source": [
    "# Using LaTeX"
   ]
  },
  {
   "cell_type": "code",
   "execution_count": null,
   "id": "18c30a11",
   "metadata": {},
   "outputs": [],
   "source": [
    "import sympy as sym\n",
    "import numpy as np\n",
    "sym.init_printing()\n",
    "from IPython.display import display, Math"
   ]
  },
  {
   "cell_type": "code",
   "execution_count": null,
   "id": "362aa77e",
   "metadata": {
    "scrolled": true
   },
   "outputs": [],
   "source": [
    "print('4 + 3 = 7')\n",
    "\n",
    "display(Math('4 + 3 = 7'))\n",
    "\n",
    "display(Math('\\\\sigma = \\\\mu \\\\times 2\\\\sqrt{5x+3z-17u}'))"
   ]
  },
  {
   "cell_type": "code",
   "execution_count": null,
   "id": "4cba9d53",
   "metadata": {},
   "outputs": [],
   "source": [
    "display(Math('x_mm'))\n",
    "display(Math('x_{mm}'))\n",
    "display(Math('x_{mm} + y^{n+2k-15}'))"
   ]
  },
  {
   "cell_type": "code",
   "execution_count": null,
   "id": "1c3e14f1",
   "metadata": {},
   "outputs": [],
   "source": [
    "display(Math('\\\\sqrt{x}\\\\sqrt{x}')) #answert to one of the previous exercises"
   ]
  },
  {
   "cell_type": "code",
   "execution_count": null,
   "id": "fba0ab1a",
   "metadata": {},
   "outputs": [],
   "source": [
    "display(Math('\\\\text{The answer to this equation is }\\\\frac{1+x}{2v-s^{t+4r}}'))"
   ]
  },
  {
   "cell_type": "markdown",
   "id": "0f58ab9d",
   "metadata": {},
   "source": [
    "# This is a markdown cell\n",
    "## subtext\n",
    "### even smaller text\n",
    "This cell is not for running actual Python code\n",
    "\n",
    "This LaTeX code runs in Markdown same line with one dollar sign and single slashes $\\frac{1+x}{2v-s^{t+4r}}$\n",
    "\n",
    "This LaTeX code runs in Markdown on it's own line with two dollar signs and single slashes $$2\\sqrt{5x+3z-17u}$$"
   ]
  },
  {
   "cell_type": "markdown",
   "id": "234f3600",
   "metadata": {},
   "source": [
    "## Exercises"
   ]
  },
  {
   "cell_type": "code",
   "execution_count": null,
   "id": "a918f3ae",
   "metadata": {},
   "outputs": [],
   "source": [
    "display(Math('\\\\text{1) }4x+5y-8z=17'))\n",
    "display(Math('\\\\text{2) }\\\\sin(2\\\\pi f t + \\\\theta)'))\n",
    "display(Math('\\\\text{3) }e=mc^2'))\n",
    "display(Math('\\\\text{4) }\\\\frac{4+5x^2}{(1+x)(1-x)}'))\n"
   ]
  },
  {
   "cell_type": "markdown",
   "id": "449198c5",
   "metadata": {},
   "source": [
    "# SymPy part 2"
   ]
  },
  {
   "cell_type": "code",
   "execution_count": null,
   "id": "f08b30d2",
   "metadata": {},
   "outputs": [],
   "source": [
    "import sympy as sym\n",
    "from IPython.display import display, Math\n"
   ]
  },
  {
   "cell_type": "code",
   "execution_count": null,
   "id": "92b50579",
   "metadata": {},
   "outputs": [],
   "source": [
    "mu,alpha,sigma = sym.symbols('mu,alpha,sigma')\n",
    "\n",
    "expr = sym.exp( (mu-alpha)**2 / (2*sigma**2) )\n",
    "display(expr)"
   ]
  },
  {
   "cell_type": "code",
   "execution_count": null,
   "id": "1a74d4ee",
   "metadata": {},
   "outputs": [],
   "source": [
    "hello = sym.symbols('hello')\n",
    "hello/3"
   ]
  },
  {
   "cell_type": "code",
   "execution_count": null,
   "id": "21188c6d",
   "metadata": {},
   "outputs": [],
   "source": [
    "x = sym.symbols('x')\n",
    "expr = x+4\n",
    "expr.subs(x,6) # replace x with 6 in the expression expr"
   ]
  },
  {
   "cell_type": "code",
   "execution_count": null,
   "id": "72ceb5bf",
   "metadata": {},
   "outputs": [],
   "source": [
    "x,y = sym.symbols('x,y')\n",
    "expr = x+4+2*y\n",
    "expr.subs({x:-4, y:3})"
   ]
  },
  {
   "cell_type": "code",
   "execution_count": null,
   "id": "71c78f5f",
   "metadata": {},
   "outputs": [],
   "source": [
    "expr = 3/x\n",
    "sym.latex(expr)"
   ]
  },
  {
   "cell_type": "code",
   "execution_count": null,
   "id": "e6786f2c",
   "metadata": {},
   "outputs": [],
   "source": [
    "display(Math(sym.latex(expr)))"
   ]
  },
  {
   "cell_type": "code",
   "execution_count": null,
   "id": "9613a2bb",
   "metadata": {},
   "outputs": [],
   "source": [
    "print(sym.latex(expr))"
   ]
  },
  {
   "cell_type": "code",
   "execution_count": null,
   "id": "02886d35",
   "metadata": {},
   "outputs": [],
   "source": [
    "sym.latex(3/4)"
   ]
  },
  {
   "cell_type": "code",
   "execution_count": null,
   "id": "40841e6e",
   "metadata": {},
   "outputs": [],
   "source": [
    "sym.latex(sym.sympify('3/4')) #convert string into sympy object"
   ]
  },
  {
   "cell_type": "code",
   "execution_count": null,
   "id": "4dfa236b",
   "metadata": {},
   "outputs": [],
   "source": [
    "display(Math(sym.latex(sym.sympify('3/4'))))"
   ]
  },
  {
   "cell_type": "markdown",
   "id": "01c9f8e6",
   "metadata": {},
   "source": [
    "## Exercises"
   ]
  },
  {
   "cell_type": "code",
   "execution_count": null,
   "id": "8ddca72b",
   "metadata": {},
   "outputs": [],
   "source": [
    "import sympy as sym\n",
    "from IPython.display import display, Math"
   ]
  },
  {
   "cell_type": "code",
   "execution_count": null,
   "id": "92eec027",
   "metadata": {
    "scrolled": true
   },
   "outputs": [],
   "source": [
    "x = sym.symbols('x')\n",
    "expr = x**2+4\n",
    "for i in range(-2, 3):\n",
    "    display(Math('\\\\text{With x = %g: }x^2+4 \\\\quad \\\\Rightarrow \\\\quad %g^{2}+4=%g' %(i,i,expr.subs(x,i)) ))"
   ]
  },
  {
   "cell_type": "code",
   "execution_count": null,
   "id": "951ca104",
   "metadata": {},
   "outputs": [],
   "source": [
    "for i in range(-2, 3):\n",
    "    ans = (x+4).subs(x,i**2)\n",
    "    display(Math('\\\\text{With x = %g: }x^2+4 \\\\quad \\\\Rightarrow \\\\quad %g^{2}+4=%g' %(i,i,ans) ))"
   ]
  },
  {
   "cell_type": "markdown",
   "id": "c65c8853",
   "metadata": {},
   "source": [
    "# Printing with F-Strings"
   ]
  },
  {
   "cell_type": "code",
   "execution_count": null,
   "id": "9145af4d",
   "metadata": {},
   "outputs": [],
   "source": [
    "import sympy as sym\n",
    "from IPython.display import display, Math\n"
   ]
  },
  {
   "cell_type": "code",
   "execution_count": null,
   "id": "19353c35",
   "metadata": {},
   "outputs": [],
   "source": [
    "# f-strings\n",
    "\n",
    "svar = 'Mike'\n",
    "nvar = 7\n",
    "\n",
    "print(f'Hi my name is {svar} an I eat {nvar} chocolates every day!')"
   ]
  },
  {
   "cell_type": "code",
   "execution_count": null,
   "id": "24a77e4a",
   "metadata": {},
   "outputs": [],
   "source": [
    "x,y = sym.symbols('x,y')\n",
    "\n",
    "expr = 3/x\n",
    "\n",
    "display(Math('\\\\frac{x}{y}'))\n",
    "display(Math('\\\\frac{%s}{y}'%x))\n",
    "display(Math(f'\\\\frac{{x}}{{y}}'))\n",
    "display(Math(f'\\\\frac{{{sym.latex(expr)}}}{{y}}'))\n",
    "display(Math('\\\\frac{%s}{%s}'%(sym.latex(expr),y)))"
   ]
  },
  {
   "cell_type": "markdown",
   "id": "eb00f6a5",
   "metadata": {},
   "source": [
    "## SymPy to understand the Law of Exponents"
   ]
  },
  {
   "cell_type": "code",
   "execution_count": 2,
   "id": "00628a03",
   "metadata": {},
   "outputs": [],
   "source": [
    "import sympy as sym\n",
    "from IPython.display import display, Math\n"
   ]
  },
  {
   "cell_type": "code",
   "execution_count": 4,
   "id": "c2f24b70",
   "metadata": {},
   "outputs": [
    {
     "data": {
      "text/latex": [
       "$\\displaystyle x^{y} x^{z}$"
      ],
      "text/plain": [
       "x**y*x**z"
      ]
     },
     "metadata": {},
     "output_type": "display_data"
    },
    {
     "data": {
      "text/latex": [
       "$\\displaystyle x^{y + z}$"
      ],
      "text/plain": [
       "x**(y + z)"
      ]
     },
     "metadata": {},
     "output_type": "display_data"
    }
   ],
   "source": [
    "x,y,z = sym.symbols('x,y,z')\n",
    "\n",
    "ex = x**y * x**z\n",
    "\n",
    "display(ex)\n",
    "display( sym.simplify(ex))\n"
   ]
  },
  {
   "cell_type": "code",
   "execution_count": 7,
   "id": "303b298a",
   "metadata": {},
   "outputs": [
    {
     "data": {
      "text/latex": [
       "$\\displaystyle x**y*x**z = x**(y + z)$"
      ],
      "text/plain": [
       "<IPython.core.display.Math object>"
      ]
     },
     "metadata": {},
     "output_type": "display_data"
    },
    {
     "data": {
      "text/latex": [
       "$\\displaystyle x^{y} x^{z} = x^{y + z}$"
      ],
      "text/plain": [
       "<IPython.core.display.Math object>"
      ]
     },
     "metadata": {},
     "output_type": "display_data"
    },
    {
     "data": {
      "text/latex": [
       "$\\displaystyle x^{y} x^{- z} = x^{y - z}$"
      ],
      "text/plain": [
       "<IPython.core.display.Math object>"
      ]
     },
     "metadata": {},
     "output_type": "display_data"
    },
    {
     "data": {
      "text/latex": [
       "$\\displaystyle x^{y} y^{z} = x^{y} y^{z}$"
      ],
      "text/plain": [
       "<IPython.core.display.Math object>"
      ]
     },
     "metadata": {},
     "output_type": "display_data"
    }
   ],
   "source": [
    "ex1 = x**y * x**z\n",
    "ex2 = x**y / x**z\n",
    "ex3 = x**y * y**z\n",
    "\n",
    "display(Math('%s = %s' %(ex1,sym.simplify(ex1))))\n",
    "display(Math('%s = %s' %(sym.latex(ex1),sym.latex(sym.simplify(ex1)))))\n",
    "display(Math('%s = %s' %(sym.latex(ex2),sym.latex(sym.simplify(ex2)))))\n",
    "display(Math('%s = %s' %(sym.latex(ex3),sym.latex(sym.simplify(ex3)))))\n"
   ]
  },
  {
   "cell_type": "code",
   "execution_count": 8,
   "id": "0060f225",
   "metadata": {},
   "outputs": [
    {
     "data": {
      "text/latex": [
       "$\\displaystyle \\text{True}$"
      ],
      "text/plain": [
       "True"
      ]
     },
     "execution_count": 8,
     "metadata": {},
     "output_type": "execute_result"
    }
   ],
   "source": [
    "# symppy equal\n",
    "sym.Eq(4,2+2)"
   ]
  },
  {
   "cell_type": "code",
   "execution_count": 9,
   "id": "64ed4054",
   "metadata": {},
   "outputs": [
    {
     "data": {
      "text/latex": [
       "$\\displaystyle \\text{True}$"
      ],
      "text/plain": [
       "True"
      ]
     },
     "execution_count": 9,
     "metadata": {},
     "output_type": "execute_result"
    }
   ],
   "source": [
    "left = 4\n",
    "right = 6-2\n",
    "\n",
    "sym.Eq(left,right)"
   ]
  },
  {
   "cell_type": "code",
   "execution_count": 11,
   "id": "44b054a1",
   "metadata": {},
   "outputs": [
    {
     "data": {
      "text/latex": [
       "$\\displaystyle \\text{True}$"
      ],
      "text/plain": [
       "True"
      ]
     },
     "execution_count": 11,
     "metadata": {},
     "output_type": "execute_result"
    }
   ],
   "source": [
    "sym.Eq(left-right,0)"
   ]
  },
  {
   "cell_type": "code",
   "execution_count": 12,
   "id": "004c4e39",
   "metadata": {},
   "outputs": [
    {
     "data": {
      "text/latex": [
       "$\\displaystyle x^{y} x^{z} = x^{y + z}$"
      ],
      "text/plain": [
       "Eq(x**y*x**z, x**(y + z))"
      ]
     },
     "execution_count": 12,
     "metadata": {},
     "output_type": "execute_result"
    }
   ],
   "source": [
    "sym.Eq(ex1,sym.simplify(ex1))"
   ]
  },
  {
   "cell_type": "code",
   "execution_count": 14,
   "id": "a9f92aae",
   "metadata": {},
   "outputs": [
    {
     "data": {
      "text/latex": [
       "$\\displaystyle x^{y} x^{z} - x^{y + z} = 0$"
      ],
      "text/plain": [
       "Eq(x**y*x**z - x**(y + z), 0)"
      ]
     },
     "execution_count": 14,
     "metadata": {},
     "output_type": "execute_result"
    }
   ],
   "source": [
    "sym.Eq(ex1-sym.simplify(ex1),0)"
   ]
  },
  {
   "cell_type": "code",
   "execution_count": 15,
   "id": "7d23c3bd",
   "metadata": {},
   "outputs": [
    {
     "data": {
      "text/latex": [
       "$\\displaystyle x^{y} x^{z} = 0$"
      ],
      "text/plain": [
       "Eq(x**y*x**z, 0)"
      ]
     },
     "execution_count": 15,
     "metadata": {},
     "output_type": "execute_result"
    }
   ],
   "source": [
    "sym.Eq(sym.expand(ex1,sym.simplify(ex1)))"
   ]
  },
  {
   "cell_type": "code",
   "execution_count": 16,
   "id": "03a31e8f",
   "metadata": {},
   "outputs": [
    {
     "data": {
      "text/latex": [
       "$\\displaystyle x^{y} x^{z} - x^{y + z} = 0$"
      ],
      "text/plain": [
       "Eq(x**y*x**z - x**(y + z), 0)"
      ]
     },
     "execution_count": 16,
     "metadata": {},
     "output_type": "execute_result"
    }
   ],
   "source": [
    "sym.Eq(sym.expand(ex1-sym.simplify(ex1),0))"
   ]
  },
  {
   "cell_type": "code",
   "execution_count": 18,
   "id": "fc006808",
   "metadata": {
    "scrolled": true
   },
   "outputs": [
    {
     "data": {
      "text/latex": [
       "$\\displaystyle x^{y + z}$"
      ],
      "text/plain": [
       "x**(y + z)"
      ]
     },
     "metadata": {},
     "output_type": "display_data"
    }
   ],
   "source": [
    "# power simplification\n",
    "display( sym.powsimp(ex1))"
   ]
  }
 ],
 "metadata": {
  "kernelspec": {
   "display_name": "Python 3 (ipykernel)",
   "language": "python",
   "name": "python3"
  },
  "language_info": {
   "codemirror_mode": {
    "name": "ipython",
    "version": 3
   },
   "file_extension": ".py",
   "mimetype": "text/x-python",
   "name": "python",
   "nbconvert_exporter": "python",
   "pygments_lexer": "ipython3",
   "version": "3.9.7"
  }
 },
 "nbformat": 4,
 "nbformat_minor": 5
}
